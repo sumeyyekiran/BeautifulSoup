{
 "cells": [
  {
   "cell_type": "code",
   "execution_count": 10,
   "metadata": {},
   "outputs": [
    {
     "name": "stdout",
     "output_type": "stream",
     "text": [
      "<p class=\"title\"><b>The Dormouse's story</b></p>\n",
      "<class 'bs4.element.Tag'>\n",
      "[<p class=\"title\"><b>The Dormouse's story</b></p>, <p class=\"story\">Once upon a time there were three little sisters; and their names were\n",
      "<a class=\"sister\" href=\"http://example.com/elsie\" id=\"link1\">Elsie</a>,\n",
      "<a class=\"sister\" href=\"http://example.com/lacie\" id=\"link2\">Lacie</a> and\n",
      "<a class=\"sister\" href=\"http://example.com/tillie\" id=\"link3\">Tillie</a>;\n",
      "and they lived at the bottom of a well.</p>, <p class=\"story\">...</p>]\n",
      "[<p class=\"title\"><b>The Dormouse's story</b></p>]\n"
     ]
    }
   ],
   "source": [
    "html_doc = \"\"\"\n",
    "<html><head><title>The Dormouse's story</title></head>\n",
    "<body>\n",
    "<p class=\"title\"><b>The Dormouse's story</b></p>\n",
    "\n",
    "<p class=\"story\">Once upon a time there were three little sisters; and their names were\n",
    "<a href=\"http://example.com/elsie\" class=\"sister\" id=\"link1\">Elsie</a>,\n",
    "<a href=\"http://example.com/lacie\" class=\"sister\" id=\"link2\">Lacie</a> and\n",
    "<a href=\"http://example.com/tillie\" class=\"sister\" id=\"link3\">Tillie</a>;\n",
    "and they lived at the bottom of a well.</p>\n",
    "\n",
    "<p class=\"story\">...</p>\n",
    "\"\"\"\n",
    "\n",
    "from bs4 import BeautifulSoup\n",
    "soup = BeautifulSoup(html_doc, 'html.parser')\n",
    "print(soup.body.p)\n",
    "print(type(soup.head))\n",
    "print(soup.find_all('p'))\n",
    "print(soup.find_all('p',attrs={'class':'title'}))"
   ]
  },
  {
   "cell_type": "code",
   "execution_count": 12,
   "metadata": {
    "scrolled": true
   },
   "outputs": [
    {
     "name": "stdout",
     "output_type": "stream",
     "text": [
      "\n",
      "\n",
      "<p class=\"title\"><b>The Dormouse's story</b></p>\n",
      "<b>The Dormouse's story</b>\n",
      "The Dormouse's story\n",
      "\n",
      "\n",
      "<p class=\"story\">Once upon a time there were three little sisters; and their names were\n",
      "<a class=\"sister\" href=\"http://example.com/elsie\" id=\"link1\">Elsie</a>,\n",
      "<a class=\"sister\" href=\"http://example.com/lacie\" id=\"link2\">Lacie</a> and\n",
      "<a class=\"sister\" href=\"http://example.com/tillie\" id=\"link3\">Tillie</a>;\n",
      "and they lived at the bottom of a well.</p>\n",
      "Once upon a time there were three little sisters; and their names were\n",
      "\n",
      "<a class=\"sister\" href=\"http://example.com/elsie\" id=\"link1\">Elsie</a>\n",
      "Elsie\n",
      ",\n",
      "\n",
      "<a class=\"sister\" href=\"http://example.com/lacie\" id=\"link2\">Lacie</a>\n",
      "Lacie\n",
      " and\n",
      "\n",
      "<a class=\"sister\" href=\"http://example.com/tillie\" id=\"link3\">Tillie</a>\n",
      "Tillie\n",
      ";\n",
      "and they lived at the bottom of a well.\n",
      "\n",
      "\n",
      "<p class=\"story\">...</p>\n",
      "...\n",
      "\n",
      "\n"
     ]
    }
   ],
   "source": [
    "for i in soup.body.descendants:\n",
    "    print(i)"
   ]
  },
  {
   "cell_type": "code",
   "execution_count": 14,
   "metadata": {},
   "outputs": [
    {
     "name": "stdout",
     "output_type": "stream",
     "text": [
      "\n",
      "\n",
      "<p class=\"title\"><b>The Dormouse's story</b></p>\n",
      "\n",
      "\n",
      "<p class=\"story\">Once upon a time there were three little sisters; and their names were\n",
      "<a class=\"sister\" href=\"http://example.com/elsie\" id=\"link1\">Elsie</a>,\n",
      "<a class=\"sister\" href=\"http://example.com/lacie\" id=\"link2\">Lacie</a> and\n",
      "<a class=\"sister\" href=\"http://example.com/tillie\" id=\"link3\">Tillie</a>;\n",
      "and they lived at the bottom of a well.</p>\n",
      "\n",
      "\n",
      "<p class=\"story\">...</p>\n",
      "\n",
      "\n"
     ]
    }
   ],
   "source": [
    "for j in soup.body.children:\n",
    "    print(j)"
   ]
  },
  {
   "cell_type": "code",
   "execution_count": 25,
   "metadata": {},
   "outputs": [
    {
     "name": "stdout",
     "output_type": "stream",
     "text": [
      "<a class=\"sister\" href=\"http://example.com/lacie\" id=\"link2\">Lacie</a>\n",
      "Once upon a time there were three little sisters; and their names were\n",
      "\n"
     ]
    }
   ],
   "source": [
    "print(soup.a.next_sibling.next_sibling)\n",
    "print(soup.a.previous_sibling)"
   ]
  },
  {
   "cell_type": "code",
   "execution_count": 27,
   "metadata": {},
   "outputs": [
    {
     "name": "stdout",
     "output_type": "stream",
     "text": [
      "News Title: US 'underestimates' Huawei, founder says\n",
      "\n",
      "News Title: Jamie Oliver restaurant chains collapse\n",
      "\n",
      "News Title: Female squash player awarded vibrator\n",
      "\n",
      "News Title: 'He paid me $0.57 for sex all day'\n",
      "\n",
      "News Title: Aretha Franklin: Three wills discovered\n",
      "\n",
      "News Title: How a new diet for gassy cows is helping the environment\n",
      "\n",
      "News Title: In Pictures: The hedonistic spirit of Miami Beach\n",
      "\n",
      "News Title: Glyndebourne: The accidental opera singer\n",
      "\n",
      "News Title: Playing Tetris by committee\n",
      "\n",
      "News Title: Cambodia re-enacts Khmer Rouge killings\n",
      "\n",
      "News Title: Why a Danish tycoon bought the Highlands\n",
      "\n",
      "News Title: Echoes of Trump in Modi's border politics\n",
      "\n",
      "News Title: Why Israel distrusts Europe\n",
      "\n",
      "News Title: Are barcodes the way to protect dementia patients?\n",
      "\n",
      "News Title: Is India really running out of water?\n",
      "\n",
      "News Title: The pun-loving computer programs that write adverts\n",
      "\n",
      "News Title: How these cities became rat-free zones\n",
      "\n",
      "News Title: A sacred site found by spy satellites\n",
      "\n",
      "News Title: Cannes 2019 review: A Hidden Life\n",
      "\n",
      "News Title: The puzzle of ancient brain surgery\n",
      "\n",
      "News Title: Why you can’t trust your first memory \n",
      "\n",
      "News Title: Understanding panda-nomics\n",
      "\n",
      "News Title: 'The most courageous act of any sportsman' - tributes to Niki Lauda\n",
      "\n",
      "News Title: 'I won't chase down retired players' - new Scotland boss Clarke\n",
      "\n",
      "News Title: Arsenal's Mkhitaryan will not travel to Azerbaijan for Europa League final\n",
      "\n",
      "News Title: Lauda obituary - recovery from fiery crash 'one of bravest acts in history of sport'\n",
      "\n",
      "News Title: Is it that time of the month again? How do periods affect athletes & why are they monitored?\n",
      "\n",
      "News Title: The woman who ‘had to fight and claw' her way into motorsport\n",
      "\n",
      "A: 'He paid me $0.57 for sex all day'\n",
      "A: 16,000 tonnes of steel gone in 16 seconds\n",
      "A: What happened to Madonna's Eurovision performance?\n",
      "A: How a new diet for gassy cows is helping the environment\n",
      "A: Glyndebourne: The accidental opera singer\n",
      "A: Jamie Oliver restaurant chains collapse\n",
      "A: Vibrator is top prize in Spanish squash tournament\n",
      "A: US 'underestimates' Huawei, founder says\n",
      "A: Austrian F1 legend Niki Lauda dies at 70\n",
      "A: Care worker inherits estate after DNA test\n",
      "A: Johnny Depp accuses Amber Heard of abuse\n",
      "A: Aretha Franklin: Three wills discovered\n",
      "A: Why a Danish tycoon bought the Highlands\n",
      "A: British Steel on verge of administration\n",
      "A: White House tells ex-aide not to testify\n"
     ]
    }
   ],
   "source": [
    "import requests\n",
    "url=\"https://www.bbc.com/news\"\n",
    "request=requests.get(url)\n",
    "bs=BeautifulSoup(request.content,'lxml')\n",
    "div=bs.find_all(\"div\",attrs={\"class\":\"gs-c-promo-body gel-1/2@xs gel-1/1@m gs-u-mt@m\"})\n",
    "for i in div:\n",
    "    a=i.find(\"h3\")\n",
    "    print(\"News Title: \"+a.text+\"\\n\")\n",
    "div1=bs.find_all(\"span\",attrs={\"class\":\"gs-c-promo-heading__title gel-pica-bold\"})\n",
    "for j in div1:\n",
    "    print(\"A: \"+j.text)"
   ]
  },
  {
   "cell_type": "code",
   "execution_count": null,
   "metadata": {},
   "outputs": [],
   "source": []
  },
  {
   "cell_type": "code",
   "execution_count": null,
   "metadata": {},
   "outputs": [],
   "source": []
  }
 ],
 "metadata": {
  "kernelspec": {
   "display_name": "venv",
   "language": "python",
   "name": "venv"
  },
  "language_info": {
   "codemirror_mode": {
    "name": "ipython",
    "version": 3
   },
   "file_extension": ".py",
   "mimetype": "text/x-python",
   "name": "python",
   "nbconvert_exporter": "python",
   "pygments_lexer": "ipython3",
   "version": "3.6.7"
  }
 },
 "nbformat": 4,
 "nbformat_minor": 2
}
